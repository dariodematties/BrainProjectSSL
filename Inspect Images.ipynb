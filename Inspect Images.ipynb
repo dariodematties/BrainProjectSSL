{
 "cells": [
  {
   "cell_type": "code",
   "execution_count": 1,
   "id": "0ad85dff",
   "metadata": {},
   "outputs": [],
   "source": [
    "import PIL\n",
    "import os\n",
    "import numpy as np\n",
    "from PIL import Image\n",
    "import matplotlib.pyplot as plt\n",
    "\n",
    "from image_manager import split_images_in_patches"
   ]
  },
  {
   "cell_type": "code",
   "execution_count": 2,
   "id": "0a51326d",
   "metadata": {},
   "outputs": [],
   "source": [
    "PIL.Image.MAX_IMAGE_PIXELS = 933120000\n",
    "inputpath='/projects/MultiActiveAI/BrainImagingML/stack/'\n",
    "outputpath='/projects/MultiActiveAI/BrainImagingML/inference_patches/'"
   ]
  },
  {
   "cell_type": "code",
   "execution_count": 3,
   "id": "3355f107",
   "metadata": {},
   "outputs": [
    {
     "name": "stdout",
     "output_type": "stream",
     "text": [
      "/projects/MultiActiveAI/BrainImagingML/stack/S_0607.tif\n",
      "0\n",
      "/projects/MultiActiveAI/BrainImagingML/stack/S_0139.tif\n",
      "1\n",
      "/projects/MultiActiveAI/BrainImagingML/stack/S_0593.tif\n",
      "2\n",
      "/projects/MultiActiveAI/BrainImagingML/stack/S_0655.tif\n",
      "3\n",
      "/projects/MultiActiveAI/BrainImagingML/stack/S_0792.tif\n",
      "4\n",
      "/projects/MultiActiveAI/BrainImagingML/stack/S_0092.tif\n",
      "5\n",
      "/projects/MultiActiveAI/BrainImagingML/stack/S_0100.tif\n",
      "6\n",
      "/projects/MultiActiveAI/BrainImagingML/stack/S_0867.tif\n",
      "7\n",
      "/projects/MultiActiveAI/BrainImagingML/stack/S_0435.tif\n",
      "8\n",
      "/projects/MultiActiveAI/BrainImagingML/stack/S_0362.tif\n",
      "9\n",
      "/projects/MultiActiveAI/BrainImagingML/stack/S_0612.tif\n",
      "10\n",
      "/projects/MultiActiveAI/BrainImagingML/stack/S_0748.tif\n",
      "11\n",
      "/projects/MultiActiveAI/BrainImagingML/stack/S_0620.tif\n",
      "12\n",
      "/projects/MultiActiveAI/BrainImagingML/stack/S_0850.tif\n",
      "13\n",
      "/projects/MultiActiveAI/BrainImagingML/stack/S_0044.tif\n",
      "14\n",
      "/projects/MultiActiveAI/BrainImagingML/stack/S_0751.tif\n",
      "15\n",
      "/projects/MultiActiveAI/BrainImagingML/stack/S_0455.tif\n",
      "16\n",
      "/projects/MultiActiveAI/BrainImagingML/stack/S_0207.tif\n",
      "17\n",
      "/projects/MultiActiveAI/BrainImagingML/stack/S_0338.tif\n",
      "18\n",
      "/projects/MultiActiveAI/BrainImagingML/stack/S_0130.tif\n",
      "19\n",
      "/projects/MultiActiveAI/BrainImagingML/stack/S_0871.tif\n",
      "20\n"
     ]
    }
   ],
   "source": [
    "split_images_in_patches(inputpath, outputpath, stop_at=20)"
   ]
  },
  {
   "cell_type": "code",
   "execution_count": 4,
   "id": "2da6146b",
   "metadata": {},
   "outputs": [
    {
     "ename": "FileNotFoundError",
     "evalue": "[Errno 2] No such file or directory: '/projects/MultiActiveAI/BrainImagingML/inference_patches/S_0607_patch_13.jpg'",
     "output_type": "error",
     "traceback": [
      "\u001b[0;31m---------------------------------------------------------------------------\u001b[0m",
      "\u001b[0;31mFileNotFoundError\u001b[0m                         Traceback (most recent call last)",
      "Cell \u001b[0;32mIn[4], line 2\u001b[0m\n\u001b[1;32m      1\u001b[0m impath \u001b[38;5;241m=\u001b[39m os\u001b[38;5;241m.\u001b[39mpath\u001b[38;5;241m.\u001b[39mjoin(outputpath, \u001b[38;5;124m'\u001b[39m\u001b[38;5;124mS_0607_patch_13.jpg\u001b[39m\u001b[38;5;124m'\u001b[39m)\n\u001b[0;32m----> 2\u001b[0m im \u001b[38;5;241m=\u001b[39m \u001b[43mImage\u001b[49m\u001b[38;5;241;43m.\u001b[39;49m\u001b[43mopen\u001b[49m\u001b[43m(\u001b[49m\u001b[43mimpath\u001b[49m\u001b[43m)\u001b[49m\n\u001b[1;32m      3\u001b[0m im\n",
      "File \u001b[0;32m~/.conda/envs/BrainImagesProject/lib/python3.10/site-packages/PIL/Image.py:3227\u001b[0m, in \u001b[0;36mopen\u001b[0;34m(fp, mode, formats)\u001b[0m\n\u001b[1;32m   3224\u001b[0m     filename \u001b[38;5;241m=\u001b[39m fp\n\u001b[1;32m   3226\u001b[0m \u001b[38;5;28;01mif\u001b[39;00m filename:\n\u001b[0;32m-> 3227\u001b[0m     fp \u001b[38;5;241m=\u001b[39m \u001b[43mbuiltins\u001b[49m\u001b[38;5;241;43m.\u001b[39;49m\u001b[43mopen\u001b[49m\u001b[43m(\u001b[49m\u001b[43mfilename\u001b[49m\u001b[43m,\u001b[49m\u001b[43m \u001b[49m\u001b[38;5;124;43m\"\u001b[39;49m\u001b[38;5;124;43mrb\u001b[39;49m\u001b[38;5;124;43m\"\u001b[39;49m\u001b[43m)\u001b[49m\n\u001b[1;32m   3228\u001b[0m     exclusive_fp \u001b[38;5;241m=\u001b[39m \u001b[38;5;28;01mTrue\u001b[39;00m\n\u001b[1;32m   3230\u001b[0m \u001b[38;5;28;01mtry\u001b[39;00m:\n",
      "\u001b[0;31mFileNotFoundError\u001b[0m: [Errno 2] No such file or directory: '/projects/MultiActiveAI/BrainImagingML/inference_patches/S_0607_patch_13.jpg'"
     ]
    }
   ],
   "source": [
    "impath = os.path.join(outputpath, 'S_0607_patch_13.jpg')\n",
    "im = Image.open(impath)\n",
    "im"
   ]
  },
  {
   "cell_type": "code",
   "execution_count": null,
   "id": "901e7b8e",
   "metadata": {},
   "outputs": [],
   "source": [
    "plt.imshow(im)"
   ]
  },
  {
   "cell_type": "code",
   "execution_count": null,
   "id": "c17a055c",
   "metadata": {},
   "outputs": [],
   "source": [
    "'/projects/MultiActiveAI/BrainImagingML/'"
   ]
  }
 ],
 "metadata": {
  "kernelspec": {
   "display_name": "BrainImagesProject",
   "language": "python",
   "name": "brainimagesproject"
  },
  "language_info": {
   "codemirror_mode": {
    "name": "ipython",
    "version": 3
   },
   "file_extension": ".py",
   "mimetype": "text/x-python",
   "name": "python",
   "nbconvert_exporter": "python",
   "pygments_lexer": "ipython3",
   "version": "3.10.9"
  }
 },
 "nbformat": 4,
 "nbformat_minor": 5
}
